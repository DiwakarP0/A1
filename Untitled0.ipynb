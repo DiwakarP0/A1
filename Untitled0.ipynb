{
  "nbformat": 4,
  "nbformat_minor": 0,
  "metadata": {
    "colab": {
      "provenance": [],
      "authorship_tag": "ABX9TyOcz3u6hAZyop/tJfUxNBMf",
      "include_colab_link": true
    },
    "kernelspec": {
      "name": "python3",
      "display_name": "Python 3"
    },
    "language_info": {
      "name": "python"
    }
  },
  "cells": [
    {
      "cell_type": "markdown",
      "metadata": {
        "id": "view-in-github",
        "colab_type": "text"
      },
      "source": [
        "<a href=\"https://colab.research.google.com/github/DiwakarP0/A1/blob/main/Untitled0.ipynb\" target=\"_parent\"><img src=\"https://colab.research.google.com/assets/colab-badge.svg\" alt=\"Open In Colab\"/></a>"
      ]
    },
    {
      "cell_type": "code",
      "execution_count": null,
      "metadata": {
        "id": "buHQ0oQF-1jC"
      },
      "outputs": [],
      "source": [
        "def tower_of_hanoi(n, source, destination, helper):\n",
        "  if n == 1:\n",
        "    print(f\"Move disk {n} from rod {source} to rod {destination}\")\n",
        "    return\n",
        "  tower_of_hanoi(n-1, source, helper, destination)\n",
        "  print(f\"Move disk {n} from rod {source} to rod {destination}\")\n",
        "  tower_of_hanoi(n-1, helper, destination, source)\n",
        "\n",
        "def dot_matrix_display(n, steps):\n",
        "  binary = bin(steps)[2:]\n",
        "  binary = binary.zfill(n)\n",
        "  for bit in binary:\n",
        "    if bit == \"1\":\n",
        "      print(\"⚪\", end=\"\")\n",
        "    else:\n",
        "      print(\"⚫\", end=\"\")\n",
        "  print()\n",
        "\n",
        "n = int(input(\"Enter the number of disks: \"))\n",
        "steps = 2**n - 1\n",
        "print(f\"The number of steps required to solve the puzzle is {steps}\")\n",
        "tower_of_hanoi(n, \"A\", \"C\", \"B\")\n",
        "dot_matrix_display(n, steps)\n"
      ]
    },
    {
      "cell_type": "code",
      "source": [
        "def cyclic_hanoi(n, source, destination, helper):\n",
        "  if n == 1:\n",
        "    print(f\"Move disk {n} from rod {source} to rod {destination}\")\n",
        "    return\n",
        "  cyclic_hanoi(n-1, source, helper, destination)\n",
        "  print(f\"Move disk {n} from rod {source} to rod {destination}\")\n",
        "  cyclic_hanoi(n-1, helper, destination, source)\n",
        "def dot_matrix_display(n, steps):\n",
        "  binary = bin(steps)[2:]\n",
        "  binary = binary.zfill(n)\n",
        "  for bit in binary:\n",
        "    if bit == \"1\":\n",
        "      print(\"⚪\", end=\"\")\n",
        "    else:\n",
        "      print(\"⚫\", end=\"\")\n",
        "  print()\n",
        "n = int(input(\"Enter the number of disks: \"))\n",
        "steps = 3**n - 1\n",
        "print(f\"The number of steps required to solve the puzzle is {steps}\")\n",
        "cyclic_hanoi(n, \"A\", \"C\", \"B\")\n",
        "dot_matrix_display(n, steps)\n"
      ],
      "metadata": {
        "colab": {
          "base_uri": "https://localhost:8080/"
        },
        "id": "gIE6PCwp_634",
        "outputId": "cc3d2293-2422-401c-c0b1-19d3b8c86ac5"
      },
      "execution_count": null,
      "outputs": [
        {
          "output_type": "stream",
          "name": "stdout",
          "text": [
            "Enter the number of disks: 4\n",
            "The number of steps required to solve the puzzle is 80\n",
            "Move disk 1 from rod A to rod B\n",
            "Move disk 2 from rod A to rod C\n",
            "Move disk 1 from rod B to rod C\n",
            "Move disk 3 from rod A to rod B\n",
            "Move disk 1 from rod C to rod A\n",
            "Move disk 2 from rod C to rod B\n",
            "Move disk 1 from rod A to rod B\n",
            "Move disk 4 from rod A to rod C\n",
            "Move disk 1 from rod B to rod C\n",
            "Move disk 2 from rod B to rod A\n",
            "Move disk 1 from rod C to rod A\n",
            "Move disk 3 from rod B to rod C\n",
            "Move disk 1 from rod A to rod B\n",
            "Move disk 2 from rod A to rod C\n",
            "Move disk 1 from rod B to rod C\n",
            "⚪⚫⚪⚫⚫⚫⚫\n"
          ]
        }
      ]
    },
    {
      "cell_type": "code",
      "source": [
        "\n",
        "import os\n",
        "import librosa\n",
        "import numpy as np\n",
        "import rgbmatrix\n",
        "from rgbmatrix import graphics\n",
        "sum_value = 0\n",
        "\n",
        "def evaluate_brick_sound(file_path):\n",
        "    y, sr = librosa.load(file_path, sr=None)\n",
        "    n_fft = 2048\n",
        "    hop_length = 512\n",
        "\n",
        "    spec = librosa.feature.melspectrogram(y, sr, n_fft=n_fft, hop_length=hop_length, fmax=22000)\n",
        "    spec_db = librosa.power_to_db(spec)\n",
        "\n",
        "    mean_values = np.mean(spec_db, axis=1)\n",
        "\n",
        "    total_mean = np.sum(mean_values)\n",
        "\n",
        "    if total_mean > 150:\n",
        "        return 1\n",
        "    else:\n",
        "        return 2\n",
        "\n",
        "def display_sum(value):\n",
        "    options = rgbmatrix.RGBMatrixOptions()\n",
        "    options.rows = 32\n",
        "    options.cols = 64\n",
        "    options.chain_length = 1\n",
        "    options.parallel = 1\n",
        "    options.row_address_type = 0\n",
        "    options.multiplexing = 0\n",
        "    options.pwm_bits = 11\n",
        "    options.brightness = 100\n",
        "    options.pwm_lsb_nanoseconds = 130\n",
        "    options.led_rgb_sequence = \"RGB\"\n",
        "    options.pixel_mapper_config = \"\"\n",
        "    options.panel_type = \"\"\n",
        "    options.hardware_mapping = 'adafruit-hat-pwm'\n",
        "    options.gpio_slowdown = 4\n",
        "    options.show_refresh_rate = 0\n",
        "    options.disable_hardware_pulsing = False\n",
        "    options.drop_privileges = False\n",
        "\n",
        "    matrix = rgbmatrix.RGBMatrix(options=options)\n",
        "\n",
        "    canvas = matrix.CreateFrameCanvas()\n",
        "\n",
        "    r = value % 256\n",
        "    g = (value // 256) % 256\n",
        "    b = (value // (256 * 256)) % 256\n",
        "    for x in range(0, 8):\n",
        "        for y in range(0, 32):\n",
        "            if x % 2 == 0:\n",
        "                canvas.SetPixel(x, y, rgbmatrix.Color(r, g, b))\n",
        "            else:\n",
        "                canvas.SetPixel(x, y, rgbmatrix.Color(0, 0, 0))\n",
        "\n",
        "    matrix.SwapOnVSync(canvas)\n",
        "\n",
        "def main():\n",
        "    global sum_value\n",
        "\n",
        "    for file_name in os.listdir(\"brick_sounds\"):\n",
        "        if file_name.endswith(\".mp3\"):\n",
        "            file_path = os.path.join(\"brick_sounds\", file_name)\n",
        "            sound_quality = evaluate_brick_sound(file_path)\n",
        "            sum_value += sound_quality\n",
        "    display_sum(sum_value)\n",
        "\n",
        "if __name__ == \"__main__\":\n",
        "    main()"
      ],
      "metadata": {
        "id": "CFeETYoUZZ0N"
      },
      "execution_count": null,
      "outputs": []
    }
  ]
}